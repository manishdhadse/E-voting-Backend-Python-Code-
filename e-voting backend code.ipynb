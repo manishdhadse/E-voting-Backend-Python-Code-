{
 "cells": [
  {
   "cell_type": "code",
   "execution_count": 1,
   "metadata": {},
   "outputs": [
    {
     "name": "stdout",
     "output_type": "stream",
     "text": [
      "The file 'campagian_details.xlsx' is empty.\n",
      "The file 'candidate_details.xlsx' is empty.\n",
      "The file 'givenvote.xlsx' is empty.\n"
     ]
    },
    {
     "name": "stdin",
     "output_type": "stream",
     "text": [
      "Press [1] for Admin login / Press [2] for Voter login/ Press [Enter] for exit:\n",
      " 1\n"
     ]
    },
    {
     "name": "stdout",
     "output_type": "stream",
     "text": [
      "\n"
     ]
    },
    {
     "name": "stdin",
     "output_type": "stream",
     "text": [
      "Please enter admin id:  m\n",
      "Please enter admin password:  1\n"
     ]
    },
    {
     "name": "stdout",
     "output_type": "stream",
     "text": [
      "\n",
      "login sucessfully\n",
      "\n",
      "Press [1] to start new campagian: \n",
      "\n",
      "Press [2] to see the previous result:\n",
      "\n",
      "Press [3] to Exit: \n",
      "\n"
     ]
    },
    {
     "name": "stdin",
     "output_type": "stream",
     "text": [
      " 1\n"
     ]
    },
    {
     "name": "stdout",
     "output_type": "stream",
     "text": [
      "\n",
      "fill campagian details\n",
      "\n"
     ]
    },
    {
     "name": "stdin",
     "output_type": "stream",
     "text": [
      "please enter campagian id [Number Format-ONLY NUMBER] :\n",
      " 1111\n",
      "please enter campagian for position:\n",
      " cm\n",
      "Enter campagian start date formatted as (YYYY-MM-DD HH:MM:SS):\n",
      " 2023-10-18 17:00:01\n",
      "\n",
      "Enter campagian end date formatted as (YYYY-MM-DD HH:MM:SS):\n",
      " 2023-10-18 18:00:01\n",
      "\n",
      "Press [1] to add candidate/ Press [any number] for exit\n",
      " 1\n"
     ]
    },
    {
     "name": "stdout",
     "output_type": "stream",
     "text": [
      "\n"
     ]
    },
    {
     "name": "stdin",
     "output_type": "stream",
     "text": [
      "enter how many candidate you want to add:\n",
      " 2\n"
     ]
    },
    {
     "name": "stdout",
     "output_type": "stream",
     "text": [
      "\n",
      "Enter the details of the 1 st candidate\n",
      "\n"
     ]
    },
    {
     "name": "stdin",
     "output_type": "stream",
     "text": [
      "\n",
      "Please enter candidate id format [CA00XXX]   ---  CA1\n",
      "\n",
      "name of candidate :---  manish\n",
      "\n",
      "party of candidate:---  bjp\n",
      "\n",
      "party symbol:---  lotus\n",
      "\n",
      "age of candidate (must be above 25):---  30\n"
     ]
    },
    {
     "name": "stdout",
     "output_type": "stream",
     "text": [
      "\n",
      "Enter the details of the 2 st candidate\n",
      "\n"
     ]
    },
    {
     "name": "stdin",
     "output_type": "stream",
     "text": [
      "\n",
      "Please enter candidate id format [CA00XXX]   ---  CA2\n",
      "\n",
      "name of candidate :---  rahul\n",
      "\n",
      "party of candidate:---  panja\n",
      "\n",
      "party symbol:---  pan\n",
      "\n",
      "age of candidate (must be above 25):---  32\n"
     ]
    },
    {
     "name": "stdout",
     "output_type": "stream",
     "text": [
      "\n",
      "Press [1] for start another campagian\n",
      "\n",
      "Press[2] for start voting\n",
      "\n",
      "Press [3] for login Portal\n",
      "\n",
      "Press [any other number] for exit\n",
      "\n"
     ]
    },
    {
     "name": "stdin",
     "output_type": "stream",
     "text": [
      " 2\n"
     ]
    },
    {
     "name": "stdout",
     "output_type": "stream",
     "text": [
      "\n",
      "All campagian:\n",
      "\n",
      "   campagian_id campagian_for         start_date             end_date\n",
      "0          1111            cm 2023-10-18 17:00:01 2023-10-18 18:00:01\n",
      "\n",
      "active campagians\n",
      "\n",
      "campagian id--  1111 , and campagian for--  cm\n",
      "\n"
     ]
    },
    {
     "name": "stdin",
     "output_type": "stream",
     "text": [
      "\n",
      "please enter the campagian id that you want to vote: \n",
      " 1111\n",
      "Please enter your voter id [in number format]:\n",
      " 1\n"
     ]
    },
    {
     "name": "stdout",
     "output_type": "stream",
     "text": [
      "You are a registerde voter so please give vote:\n",
      "\n",
      "all candidate\n",
      "\n",
      "candidate_id   name party  age\n",
      "         CA1 manish   bjp   30\n",
      "         CA2  rahul panja   32\n"
     ]
    },
    {
     "name": "stdin",
     "output_type": "stream",
     "text": [
      "Please enter the candidate ID you want to vote \n",
      " CA1\n"
     ]
    },
    {
     "name": "stdout",
     "output_type": "stream",
     "text": [
      "Thanks for voting candidate I.D. =   CA1 , Candidate name =  manish , Party = bjp\n",
      "\n"
     ]
    },
    {
     "name": "stdin",
     "output_type": "stream",
     "text": [
      "Press [1] for continue voting/ Press [any other number] for quit\n",
      " 1\n"
     ]
    },
    {
     "name": "stdout",
     "output_type": "stream",
     "text": [
      "\n",
      "All campagian:\n",
      "\n",
      "   campagian_id campagian_for         start_date             end_date\n",
      "0          1111            cm 2023-10-18 17:00:01 2023-10-18 18:00:01\n",
      "\n",
      "active campagians\n",
      "\n",
      "campagian id--  1111 , and campagian for--  cm\n",
      "\n"
     ]
    },
    {
     "name": "stdin",
     "output_type": "stream",
     "text": [
      "\n",
      "please enter the campagian id that you want to vote: \n",
      " 1111\n",
      "Please enter your voter id [in number format]:\n",
      " 2\n"
     ]
    },
    {
     "name": "stdout",
     "output_type": "stream",
     "text": [
      "You are a registerde voter so please give vote:\n",
      "\n",
      "all candidate\n",
      "\n",
      "candidate_id   name party  age\n",
      "         CA1 manish   bjp   30\n",
      "         CA2  rahul panja   32\n"
     ]
    },
    {
     "name": "stdin",
     "output_type": "stream",
     "text": [
      "Please enter the candidate ID you want to vote \n",
      " CA1\n"
     ]
    },
    {
     "name": "stdout",
     "output_type": "stream",
     "text": [
      "Thanks for voting candidate I.D. =   CA1 , Candidate name =  manish , Party = bjp\n",
      "\n"
     ]
    },
    {
     "name": "stdin",
     "output_type": "stream",
     "text": [
      "Press [1] for continue voting/ Press [any other number] for quit\n",
      " 1\n"
     ]
    },
    {
     "name": "stdout",
     "output_type": "stream",
     "text": [
      "\n",
      "All campagian:\n",
      "\n",
      "   campagian_id campagian_for         start_date             end_date\n",
      "0          1111            cm 2023-10-18 17:00:01 2023-10-18 18:00:01\n",
      "\n",
      "active campagians\n",
      "\n",
      "campagian id--  1111 , and campagian for--  cm\n",
      "\n"
     ]
    },
    {
     "name": "stdin",
     "output_type": "stream",
     "text": [
      "\n",
      "please enter the campagian id that you want to vote: \n",
      " 1111\n",
      "Please enter your voter id [in number format]:\n",
      " 3\n"
     ]
    },
    {
     "name": "stdout",
     "output_type": "stream",
     "text": [
      "You are a registerde voter so please give vote:\n",
      "\n",
      "all candidate\n",
      "\n",
      "candidate_id   name party  age\n",
      "         CA1 manish   bjp   30\n",
      "         CA2  rahul panja   32\n"
     ]
    },
    {
     "name": "stdin",
     "output_type": "stream",
     "text": [
      "Please enter the candidate ID you want to vote \n",
      " CA2\n"
     ]
    },
    {
     "name": "stdout",
     "output_type": "stream",
     "text": [
      "Thanks for voting candidate I.D. =   CA2 , Candidate name =  rahul , Party = panja\n",
      "\n"
     ]
    },
    {
     "name": "stdin",
     "output_type": "stream",
     "text": [
      "Press [1] for continue voting/ Press [any other number] for quit\n",
      " 2\n",
      "Press [1] for Admin login / Press [2] for Voter login/ Press [Enter] for exit:\n",
      " 1\n"
     ]
    },
    {
     "name": "stdout",
     "output_type": "stream",
     "text": [
      "\n"
     ]
    },
    {
     "name": "stdin",
     "output_type": "stream",
     "text": [
      "Please enter admin id:  m\n",
      "Please enter admin password:  1\n"
     ]
    },
    {
     "name": "stdout",
     "output_type": "stream",
     "text": [
      "\n",
      "login sucessfully\n",
      "\n",
      "Press [1] to start new campagian: \n",
      "\n",
      "Press [2] to see the previous result:\n",
      "\n",
      "Press [3] to Exit: \n",
      "\n"
     ]
    },
    {
     "name": "stdin",
     "output_type": "stream",
     "text": [
      " 2\n"
     ]
    },
    {
     "name": "stdout",
     "output_type": "stream",
     "text": [
      "\n",
      "The previous campagian results\n",
      "\n",
      "\n",
      "Voting has ended. Here are the results:\n",
      "\n",
      "Please enter the campagian id that you want to see the result:\n",
      "\n"
     ]
    },
    {
     "name": "stdin",
     "output_type": "stream",
     "text": [
      " 1111\n"
     ]
    },
    {
     "name": "stdout",
     "output_type": "stream",
     "text": [
      "  candidate_id    name  current_vote\n",
      "0          CA1  manish             2\n",
      "1          CA2   rahul             1\n",
      "\n",
      "\n",
      "Bar chart for comparision of candidate name and their total votes\n"
     ]
    },
    {
     "data": {
      "image/png": "[encoded data removed]",
      "text/plain": [
       "<Figure size 640x480 with 1 Axes>"
      ]
     },
     "metadata": {},
     "output_type": "display_data"
    },
    {
     "name": "stdout",
     "output_type": "stream",
     "text": [
      "\n",
      "\n",
      "\n",
      "Bar chart for comparision of party and their total votes\n"
     ]
    },
    {
     "data": {
      "image/png": "[encoded data removed]",
      "text/plain": [
       "<Figure size 640x480 with 1 Axes>"
      ]
     },
     "metadata": {},
     "output_type": "display_data"
    },
    {
     "name": "stdout",
     "output_type": "stream",
     "text": [
      "\n",
      "\n",
      "\n"
     ]
    },
    {
     "name": "stdin",
     "output_type": "stream",
     "text": [
      "\n",
      "Press [1] to see other result / Press [any other] number for exit:\n",
      " 3\n",
      "Press [1] for Admin login / Press [2] for Voter login/ Press [Enter] for exit:\n",
      " \n"
     ]
    },
    {
     "name": "stdout",
     "output_type": "stream",
     "text": [
      "Thanks for visiting\n",
      "\n",
      "\n"
     ]
    }
   ],
   "source": [
    "# Objective – To enhancing transparency in elections\n",
    "\n",
    "# imorting libraries\n",
    "import pandas as pd\n",
    "import numpy as np\n",
    "from threading import Timer\n",
    "import datetime as date,time\n",
    "from datetime import datetime\n",
    "import seaborn as sns\n",
    "import matplotlib.pyplot as plt\n",
    "import warnings\n",
    "warnings.filterwarnings('ignore')\n",
    "import csv\n",
    "\n",
    "\n",
    "#reading voter file to get data of voters.\n",
    "voter_details = pd.read_excel(\"voter_details.xlsx\")\n",
    "campagian_details = pd.read_excel(\"campagian_details.xlsx\")\n",
    "candidate_details = pd.read_excel(\"candidate_details.xlsx\")\n",
    "givenvote  = pd.read_excel('givenvote.xlsx')\n",
    "\n",
    "\n",
    "\n",
    "# function that enable voter to give vote with different check points.\n",
    "def voter1():\n",
    "    print()\n",
    "    candidate_details = pd.read_excel(\"candidate_details.xlsx\")\n",
    "    campagian_details = pd.read_excel(\"campagian_details.xlsx\")\n",
    "    if campagian_details.empty:\n",
    "        print()\n",
    "        print(\"First start campagian and add candidates then start voting\\n\")\n",
    "        a = int(input(\"Press [1] for admin login / Press [2] for exit\\n\"))\n",
    "        if a == 1:\n",
    "            adminloin()\n",
    "        else:\n",
    "            print(\"\\nThanks for visiting\\n\")\n",
    "      \n",
    "    else:\n",
    "        candidate_details = pd.read_excel(\"candidate_details.xlsx\")\n",
    "        campagian_details = pd.read_excel(\"campagian_details.xlsx\")\n",
    "        givenvote  = pd.read_excel('givenvote.xlsx')\n",
    "        givenvote1 = pd.DataFrame(columns=['voter id','campagian for'])\n",
    "        print(\"All campagian:\\n\")\n",
    "        print(campagian_details)\n",
    "        print(\"\\nactive campagians\\n\")\n",
    "        \n",
    "        # convert the 'Date' column to datetime format\n",
    "        campagian_details['end_date']= pd.to_datetime(campagian_details['end_date'])\n",
    "        length = len(campagian_details)\n",
    "        campagianlist = []\n",
    "        now = datetime.now()\n",
    "        for i in range(length):\n",
    "            if campagian_details.loc[i]['end_date'] > now :\n",
    "                print(\"campagian id-- \", campagian_details.loc[i]['campagian_id'],\", and campagian for-- \",campagian_details.loc[i]['campagian_for'])\n",
    "                campagianlist.append(campagian_details.loc[i]['campagian_id'])\n",
    "                print()\n",
    "\n",
    "        checkcampgian = int(input(\"\\nplease enter the campagian id that you want to vote: \\n\"))\n",
    "        \n",
    "        if checkcampgian in campagianlist:\n",
    "            checkvoter = int(input(\"Please enter your voter id [in number format]:\\n\"))\n",
    "            if (givenvote['voter id'] == checkvoter).any() and (givenvote['campagian for'] == checkcampgian).any():\n",
    "                print(\"You already voted, give chance to new voter\")\n",
    "                voter1()\n",
    "\n",
    "            else:\n",
    "                print(\"You are a registerde voter so please give vote:\\n\")\n",
    "                print(\"all candidate\\n\")\n",
    "                groups = candidate_details.groupby('campagian_id')\n",
    "                activecampagian = groups.get_group(checkcampgian)[['candidate_id','name', 'party','age']]\n",
    "                print(activecampagian.to_string(index=False))\n",
    "                givevote2 = str(input(\"Please enter the candidate ID you want to vote \\n\"))\n",
    "                \n",
    "                # to store candidate name.\n",
    "                person_name = candidate_details.loc[candidate_details['candidate_id'] == givevote2, 'name'].values[0]\n",
    "                # to store candidate party.\n",
    "                person_party = candidate_details.loc[candidate_details['candidate_id'] == givevote2, 'party'].values[0]\n",
    "                \n",
    "                candidate_details.loc[candidate_details['candidate_id'] == givevote2, 'current_vote'] += 1\n",
    "                print(\"Thanks for voting candidate I.D. =  \" ,givevote2, \", Candidate name = \",person_name,\", Party =\",person_party)\n",
    "\n",
    "                givenvote1.loc[i] = [checkvoter,checkcampgian]\n",
    "                givenvote = pd.concat([givenvote , givenvote1],ignore_index=True)\n",
    "                givenvote.reset_index()\n",
    "                givenvote.to_excel('givenvote.xlsx', sheet_name='sheet1', index = False)\n",
    "\n",
    "                print()\n",
    "                candidate_details.to_excel('candidate_details.xlsx', sheet_name='sheet1', index = False)\n",
    "                again = int(input(\"Press [1] for continue voting/ Press [any other number] for quit\\n\"))\n",
    "                if again ==1:\n",
    "                    voter1()\n",
    "                else:\n",
    "                    login()\n",
    "                    print()\n",
    "\n",
    "        else:\n",
    "            print(\"please enter the valid campagian id\\n\")\n",
    "            con = int(input(\"Press [1] for continue/ Press [any key] for exit\\n\"))\n",
    "            print()\n",
    "            if con == 1:\n",
    "                voter1()\n",
    "            else:\n",
    "                print(\"thanks for visiting\\n\")\n",
    "                login()\n",
    "\n",
    "                \n",
    "\n",
    "# voter function to login into portal.\n",
    "def voter():\n",
    "    voter_details = pd.read_excel(\"voter_details.xlsx\")\n",
    "    voter1()\n",
    "    \n",
    "    \n",
    "    \n",
    "# To store the result\n",
    "def result():\n",
    "    print()\n",
    "    candidate_details = pd.read_excel(\"candidate_details.xlsx\")\n",
    "    givenvote  = pd.read_excel('givenvote.xlsx')\n",
    "    if givenvote.empty:\n",
    "        print(\"First start campagian then add candidate then see the result\\n\")\n",
    "        adminloin()\n",
    "        \n",
    "    else:\n",
    "        print(\"Voting has ended. Here are the results:\\n\")\n",
    "        print(\"Please enter the campagian id that you want to see the result:\\n\")\n",
    "        checkcampagian = int(input())\n",
    "        groups = candidate_details.groupby('campagian_id')\n",
    "        activecampagian = groups.get_group(checkcampagian)[['candidate_id','name', 'current_vote']]\n",
    "        print(activecampagian)\n",
    "        print()\n",
    "        print()\n",
    "        # for cahrt\n",
    "        print(\"Bar chart for comparision of candidate name and their total votes\")\n",
    "        chart = sns.barplot(x =\"name\"  ,y = \"current_vote\"   , data = candidate_details)\n",
    "        plt.show()\n",
    "        print()\n",
    "        print()\n",
    "        print()\n",
    "        # for chart\n",
    "        print(\"Bar chart for comparision of party and their total votes\")\n",
    "        chart2 = sns.barplot(x =\"party\"  ,y = \"current_vote\"   , data = candidate_details)\n",
    "        plt.show()\n",
    "        print()\n",
    "        print()\n",
    "        print()\n",
    "        anotherresult  = int(input(\"\\nPress [1] to see other result / Press [any other] number for exit:\\n\"))\n",
    "        if anotherresult == 1:  \n",
    "            result()\n",
    "        else:\n",
    "            login()\n",
    "            \n",
    "            \n",
    "            \n",
    "# To add candidate in the active campaign            \n",
    "def addcandidate():\n",
    "    print()\n",
    "    candidate_details = pd.read_excel(\"candidate_details.xlsx\")\n",
    "    candidate1 = pd.DataFrame(columns=['candidate_id','name','party','symbol','age','campagian_id','current_vote'])\n",
    "\n",
    "        \n",
    "    def candidateAge():\n",
    "        number = int(input(\"enter how many candidate you want to add:\\n\"))\n",
    "        for i in range(1,number+1):\n",
    "            print(\"\\nEnter the details of the\", i ,\"st candidate\\n\")\n",
    "            candidate_id = input(\"\\nPlease enter candidate id format [CA00XXX]   --- \")\n",
    "            name = input(\"\\nname of candidate :--- \")\n",
    "            party = input(\"\\nparty of candidate:--- \")\n",
    "            symbol = input(\"\\nparty symbol:--- \")\n",
    "            age = int(input(\"\\nage of candidate (must be above 25):--- \"))\n",
    "            current_vote = 0    \n",
    "            candidate1.loc[i] = [candidate_id,name,party,symbol,age,campagian_id,current_vote]\n",
    "    candidateAge()\n",
    "    candidate_details = pd.concat([candidate_details , candidate1],ignore_index=True)\n",
    "    candidate_details.reset_index()\n",
    "    candidate_details.to_excel('candidate_details.xlsx', sheet_name='sheet1', index = False)\n",
    "    \n",
    "    print(\"\\nPress [1] for start another campagian\\n\")\n",
    "    print(\"Press[2] for start voting\\n\")\n",
    "    print(\"Press [3] for login Portal\\n\")\n",
    "    print(\"Press [any other number] for exit\\n\")\n",
    "    another = int(input())\n",
    "    if another ==1:\n",
    "        campagian()\n",
    "    elif another == 2:\n",
    "        voter()\n",
    "    elif another == 3:\n",
    "        login()\n",
    "    else:\n",
    "        print(\"Thanks for visiting\\n\")\n",
    "        \n",
    "        \n",
    "        \n",
    "# To start the campagian.        \n",
    "def campagian():\n",
    "    print()\n",
    "    campagian_details = pd.read_excel(\"campagian_details.xlsx\")\n",
    "    print(\"fill campagian details\\n\")\n",
    "    campagian1 = pd.DataFrame(columns=['campagian_id','campagian_for','start_date ','end_date'])\n",
    "    global campagian_id\n",
    "    campagian_id = input(\"please enter campagian id [Number Format-ONLY NUMBER] :\\n\")\n",
    "    campagian_for = input(\"please enter campagian for position:\\n\")\n",
    "    \n",
    "    # for start date\n",
    "    start_date = input('Enter campagian start date formatted as (YYYY-MM-DD HH:MM:SS):\\n')\n",
    "    start_date = datetime.strptime(start_date, \"%Y-%m-%d %H:%M:%S\")\n",
    "\n",
    "    # for end date\n",
    "    end_date = input('\\nEnter campagian end date formatted as (YYYY-MM-DD HH:MM:SS):\\n')\n",
    "    end_date = datetime.strptime(end_date, \"%Y-%m-%d %H:%M:%S\")\n",
    "    \n",
    "    for i in range(1):\n",
    "        campagian1.loc[i] = [campagian_id,campagian_for,start_date,end_date]\n",
    "        campagian_details = pd.concat([campagian_details , campagian1],ignore_index=True)\n",
    "        campagian_details.reset_index()\n",
    "        campagian_details.to_excel('campagian_details.xlsx', index = False)\n",
    "    # print(campagian_details)    \n",
    "    for_candidate = int(input(\"\\nPress [1] to add candidate/ Press [any number] for exit\\n\"))\n",
    "    if for_candidate == 1:\n",
    "        addcandidate()\n",
    "    else:\n",
    "        print(\"Thanks for visiting:\")\n",
    "        login()\n",
    "        \n",
    "        \n",
    "        \n",
    "# Admin login function into portal.        \n",
    "def adminloin():\n",
    "    admin = \"m\"\n",
    "    password = \"1\"\n",
    "    print()\n",
    "    admin1 = input(\"Please enter admin id: \")\n",
    "    password1 = input(\"Please enter admin password: \")\n",
    "    if admin == admin1 and password == password1:\n",
    "        print(\"\\nlogin sucessfully\\n\")\n",
    "        print(\"Press [1] to start new campagian: \\n\")\n",
    "        print(\"Press [2] to see the previous result:\\n\")\n",
    "        print(\"Press [3] to Exit: \\n\")\n",
    "        a = (input())\n",
    "        if a == '1':\n",
    "            campagian()    \n",
    "        \n",
    "        elif a == '2':\n",
    "            print()\n",
    "            print(\"The previous campagian results\\n\")\n",
    "            result()\n",
    "        \n",
    "        elif a == '3':\n",
    "            print()\n",
    "            print(\"Thanks for visiting\\n\")\n",
    "            print(\"See you next time\\n\")\n",
    "    else:\n",
    "        print()\n",
    "        print(\"you have entered wrong details so please enter correct details\\n\")\n",
    "        n = (input(\"Press [1] for continue/ Press [Enter] for quit:\\n\"))\n",
    "        if n == '1':\n",
    "            adminloin()\n",
    "        else:\n",
    "            print(\"Thanks for visiting:\\n\")\n",
    "            \n",
    "            \n",
    "            \n",
    "# admin and voter login to the portal\n",
    "def login():\n",
    "    log = (input(\"Press [1] for Admin login / Press [2] for Voter login/ Press [Enter] for exit:\\n\"))\n",
    "    if log == '1':\n",
    "        adminloin()\n",
    "    elif log == '2' :\n",
    "        voter()\n",
    "        \n",
    "    elif log == '':\n",
    "        print(\"Thanks for visiting\\n\")\n",
    "    else:\n",
    "        print(\"Please Enter correct option:\\n\")\n",
    "        right = (input(\"Press [1] for continue / Press [Enter]  for quit:\\n\"))\n",
    "        if  right == '1':\n",
    "            login()\n",
    "        else :\n",
    "            print(\"Thanks for visiting:\\n\")\n",
    "            \n",
    "            \n",
    "            \n",
    "# To run the all code\n",
    "login()"
   ]
  },
  {
   "cell_type": "code",
   "execution_count": null,
   "metadata": {},
   "outputs": [],
   "source": []
  }
 ],
 "metadata": {
  "kernelspec": {
   "display_name": "Python 3 (ipykernel)",
   "language": "python",
   "name": "python3"
  },
  "language_info": {
   "codemirror_mode": {
    "name": "ipython",
    "version": 3
   },
   "file_extension": ".py",
   "mimetype": "text/x-python",
   "name": "python",
   "nbconvert_exporter": "python",
   "pygments_lexer": "ipython3",
   "version": "3.9.13"
  }
 },
 "nbformat": 4,
 "nbformat_minor": 4
}
